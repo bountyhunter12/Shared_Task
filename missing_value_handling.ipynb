{
  "nbformat": 4,
  "nbformat_minor": 0,
  "metadata": {
    "colab": {
      "provenance": [],
      "authorship_tag": "ABX9TyMfiimi2TXf5aa1rMXdOFFd",
      "include_colab_link": true
    },
    "kernelspec": {
      "name": "python3",
      "display_name": "Python 3"
    },
    "language_info": {
      "name": "python"
    }
  },
  "cells": [
    {
      "cell_type": "markdown",
      "metadata": {
        "id": "view-in-github",
        "colab_type": "text"
      },
      "source": [
        "<a href=\"https://colab.research.google.com/github/bountyhunter12/Shared_Task/blob/main/missing_value_handling.ipynb\" target=\"_parent\"><img src=\"https://colab.research.google.com/assets/colab-badge.svg\" alt=\"Open In Colab\"/></a>"
      ]
    },
    {
      "cell_type": "code",
      "execution_count": 63,
      "metadata": {
        "id": "CrAnRf2f056W"
      },
      "outputs": [],
      "source": [
        "import pandas as pd\n",
        "import numpy as np\n",
        "from sklearn.impute import SimpleImputer\n",
        "from sklearn.preprocessing import LabelEncoder, OneHotEncoder, StandardScaler"
      ]
    },
    {
      "cell_type": "code",
      "source": [
        "\n",
        "data = pd.read_csv('/content/Income - Sheet1.csv')"
      ],
      "metadata": {
        "id": "tDmhMFS81C-M"
      },
      "execution_count": 64,
      "outputs": []
    },
    {
      "cell_type": "code",
      "source": [
        "# Step 1: Check for missing values\n",
        "print(\"Missing values before replacement:\")\n",
        "print(data.isnull().sum())"
      ],
      "metadata": {
        "colab": {
          "base_uri": "https://localhost:8080/"
        },
        "id": "ZZkEKhQbpNGL",
        "outputId": "2317abf6-2d33-435b-ef6a-84d9d3105613"
      },
      "execution_count": 65,
      "outputs": [
        {
          "output_type": "stream",
          "name": "stdout",
          "text": [
            "Missing values before replacement:\n",
            "Age                  1\n",
            "Marital status       2\n",
            "Income               1\n",
            "Gender               1\n",
            "Expense_per_month    1\n",
            "dtype: int64\n"
          ]
        }
      ]
    },
    {
      "cell_type": "code",
      "source": [
        "# Step 2: Replace placeholders with NaN\n",
        "missing_placeholders = [\"nan\", \"unknown\", 0, \"n/a\", \"Null\"]\n",
        "data.replace(missing_placeholders, np.nan, inplace=True)"
      ],
      "metadata": {
        "id": "IPD541esrv9R"
      },
      "execution_count": 66,
      "outputs": []
    },
    {
      "cell_type": "code",
      "source": [
        "# Check for missing values again\n",
        "print(\"Missing values after replacing placeholders:\")\n",
        "print(data.isnull().sum())"
      ],
      "metadata": {
        "colab": {
          "base_uri": "https://localhost:8080/"
        },
        "id": "av84PQEzzOUi",
        "outputId": "def0e20e-6b92-4201-d31b-9513ff22b036"
      },
      "execution_count": 67,
      "outputs": [
        {
          "output_type": "stream",
          "name": "stdout",
          "text": [
            "Missing values after replacing placeholders:\n",
            "Age                  2\n",
            "Marital status       3\n",
            "Income               2\n",
            "Gender               1\n",
            "Expense_per_month    1\n",
            "dtype: int64\n"
          ]
        }
      ]
    },
    {
      "cell_type": "code",
      "source": [
        "# 1. Handle missing values and outliers for `Age`\n",
        "# Reason: Replacing negative or unrealistic values with the mean ensures valid numerical data. Missing values are imputed to retain as much information as possible.\n",
        "mean_age = data['Age'][data['Age'] > 0].mean()\n",
        "data['Age'] = data['Age'].apply(lambda x: mean_age if x <= 0 or pd.isnull(x) else x)\n"
      ],
      "metadata": {
        "id": "c59A4JKa1FBz"
      },
      "execution_count": 68,
      "outputs": []
    },
    {
      "cell_type": "code",
      "source": [
        "# 2. Handle missing and invalid values for `Income` and `Expense_per_month`\n",
        "# Reason: Replacing \"unknown\" with NaN ensures the data can be converted to numeric. Imputing with the mean prevents data loss while maintaining consistent central tendencies.\n",
        "data['Income'] = pd.to_numeric(data['Income'].replace('unknown', pd.NA), errors='coerce')\n",
        "data['Expense_per_month'] = pd.to_numeric(data['Expense_per_month'], errors='coerce')\n",
        "data['Income'].fillna(data['Income'].mean(), inplace=True)\n",
        "data['Expense_per_month'].fillna(data['Expense_per_month'].mean(), inplace=True)"
      ],
      "metadata": {
        "colab": {
          "base_uri": "https://localhost:8080/"
        },
        "id": "CQAPvBDK1HOs",
        "outputId": "e895406b-0082-434e-a039-a0bc550f2694"
      },
      "execution_count": 69,
      "outputs": [
        {
          "output_type": "stream",
          "name": "stderr",
          "text": [
            "<ipython-input-69-831777cdf386>:5: FutureWarning: A value is trying to be set on a copy of a DataFrame or Series through chained assignment using an inplace method.\n",
            "The behavior will change in pandas 3.0. This inplace method will never work because the intermediate object on which we are setting values always behaves as a copy.\n",
            "\n",
            "For example, when doing 'df[col].method(value, inplace=True)', try using 'df.method({col: value}, inplace=True)' or df[col] = df[col].method(value) instead, to perform the operation inplace on the original object.\n",
            "\n",
            "\n",
            "  data['Income'].fillna(data['Income'].mean(), inplace=True)\n",
            "<ipython-input-69-831777cdf386>:6: FutureWarning: A value is trying to be set on a copy of a DataFrame or Series through chained assignment using an inplace method.\n",
            "The behavior will change in pandas 3.0. This inplace method will never work because the intermediate object on which we are setting values always behaves as a copy.\n",
            "\n",
            "For example, when doing 'df[col].method(value, inplace=True)', try using 'df.method({col: value}, inplace=True)' or df[col] = df[col].method(value) instead, to perform the operation inplace on the original object.\n",
            "\n",
            "\n",
            "  data['Expense_per_month'].fillna(data['Expense_per_month'].mean(), inplace=True)\n"
          ]
        }
      ]
    },
    {
      "cell_type": "code",
      "source": [
        "# 3. Handle missing values for categorical columns\n",
        "# Reason: Filling missing values with the mode ensures consistency for categorical data by using the most common value.\n",
        "data['Marital status'] = data['Marital status'].replace('Null', pd.NA)\n",
        "data['Marital status'].fillna(data['Marital status'].mode()[0], inplace=True)\n",
        "data['Gender'].fillna(data['Gender'].mode()[0], inplace=True)"
      ],
      "metadata": {
        "colab": {
          "base_uri": "https://localhost:8080/"
        },
        "id": "y9mXpJOs1Jbr",
        "outputId": "0ca66d38-0211-47b4-884e-99437f6e772a"
      },
      "execution_count": 70,
      "outputs": [
        {
          "output_type": "stream",
          "name": "stderr",
          "text": [
            "<ipython-input-70-9937b9960008>:4: FutureWarning: A value is trying to be set on a copy of a DataFrame or Series through chained assignment using an inplace method.\n",
            "The behavior will change in pandas 3.0. This inplace method will never work because the intermediate object on which we are setting values always behaves as a copy.\n",
            "\n",
            "For example, when doing 'df[col].method(value, inplace=True)', try using 'df.method({col: value}, inplace=True)' or df[col] = df[col].method(value) instead, to perform the operation inplace on the original object.\n",
            "\n",
            "\n",
            "  data['Marital status'].fillna(data['Marital status'].mode()[0], inplace=True)\n",
            "<ipython-input-70-9937b9960008>:5: FutureWarning: A value is trying to be set on a copy of a DataFrame or Series through chained assignment using an inplace method.\n",
            "The behavior will change in pandas 3.0. This inplace method will never work because the intermediate object on which we are setting values always behaves as a copy.\n",
            "\n",
            "For example, when doing 'df[col].method(value, inplace=True)', try using 'df.method({col: value}, inplace=True)' or df[col] = df[col].method(value) instead, to perform the operation inplace on the original object.\n",
            "\n",
            "\n",
            "  data['Gender'].fillna(data['Gender'].mode()[0], inplace=True)\n"
          ]
        }
      ]
    },
    {
      "cell_type": "code",
      "source": [
        "# 4. Encode categorical variables\n",
        "# Reason: One-hot encoding converts categorical variables into a format that can be used in machine learning models. Dropping the first column avoids redundancy.\n",
        "data = pd.get_dummies(data, columns=['Marital status', 'Gender'], drop_first=True)"
      ],
      "metadata": {
        "id": "z7prJvWm1L9L"
      },
      "execution_count": 71,
      "outputs": []
    },
    {
      "cell_type": "code",
      "source": [
        "# 5. Standardize numerical features\n",
        "# Reason: Standardization (z-score scaling) ensures that all numerical features are on the same scale, improving model performance and preventing bias due to feature magnitude.\n",
        "scaler = StandardScaler()\n",
        "numerical_columns = ['Age', 'Income', 'Expense_per_month']\n",
        "data[numerical_columns] = scaler.fit_transform(data[numerical_columns])"
      ],
      "metadata": {
        "id": "7MlS6Jq91liT"
      },
      "execution_count": 72,
      "outputs": []
    },
    {
      "cell_type": "code",
      "source": [
        "# Save the transformed data\n",
        "\n",
        "data.to_csv('/content/Transformed_Income.csv', index=False)\n"
      ],
      "metadata": {
        "id": "aG-4iwEV1oBp"
      },
      "execution_count": 73,
      "outputs": []
    }
  ]
}