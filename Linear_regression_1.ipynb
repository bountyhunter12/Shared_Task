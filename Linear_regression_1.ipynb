{
  "nbformat": 4,
  "nbformat_minor": 0,
  "metadata": {
    "colab": {
      "provenance": [],
      "authorship_tag": "ABX9TyO8Ra+aPWuNIqaQK4HtQm02",
      "include_colab_link": true
    },
    "kernelspec": {
      "name": "python3",
      "display_name": "Python 3"
    },
    "language_info": {
      "name": "python"
    }
  },
  "cells": [
    {
      "cell_type": "markdown",
      "metadata": {
        "id": "view-in-github",
        "colab_type": "text"
      },
      "source": [
        "<a href=\"https://colab.research.google.com/github/bountyhunter12/Shared_Task/blob/main/Linear_regression_1.ipynb\" target=\"_parent\"><img src=\"https://colab.research.google.com/assets/colab-badge.svg\" alt=\"Open In Colab\"/></a>"
      ]
    },
    {
      "cell_type": "code",
      "execution_count": 1,
      "metadata": {
        "id": "WUlTQIpL6Uqt"
      },
      "outputs": [],
      "source": [
        "import pandas as pd\n",
        "from sklearn.model_selection import train_test_split\n",
        "from sklearn.preprocessing import StandardScaler\n",
        "import numpy as np\n",
        "import matplotlib.pyplot as plt"
      ]
    },
    {
      "cell_type": "code",
      "source": [
        "# Load the dataset\n",
        "data = pd.read_csv('/content/train.csv')"
      ],
      "metadata": {
        "id": "ddYkVAC46aCS"
      },
      "execution_count": 2,
      "outputs": []
    },
    {
      "cell_type": "code",
      "source": [
        "# Task 1: Data Selection\n",
        "data['Levy'] = pd.to_numeric(data['Levy'].replace({'-': '0'}), errors='coerce')\n",
        "filtered_data = data[(data['Fuel type'] != 'Diesel') & (data['Prod. year'] >= 2005)]\n"
      ],
      "metadata": {
        "id": "bl_OUS6i6cMW"
      },
      "execution_count": 3,
      "outputs": []
    },
    {
      "cell_type": "code",
      "source": [
        "# Display the first row of the filtered dataset\n",
        "print(\"First row:\")\n",
        "print(filtered_data.iloc[0])\n"
      ],
      "metadata": {
        "colab": {
          "base_uri": "https://localhost:8080/"
        },
        "id": "zKMmK5XMKqrz",
        "outputId": "b0d08d1f-d2a8-4e16-cf2f-304d327c0c8e"
      },
      "execution_count": 5,
      "outputs": [
        {
          "output_type": "stream",
          "name": "stdout",
          "text": [
            "First row:\n",
            "ID                    45654403\n",
            "Price                    13328\n",
            "Levy                      1399\n",
            "Manufacturer             LEXUS\n",
            "Model                   RX 450\n",
            "Prod. year                2010\n",
            "Category                  Jeep\n",
            "Leather interior           Yes\n",
            "Fuel type               Hybrid\n",
            "Engine volume              3.5\n",
            "Mileage              186005 km\n",
            "Cylinders                  6.0\n",
            "Gear box type        Automatic\n",
            "Drive wheels               4x4\n",
            "Doors                   04-May\n",
            "Wheel               Left wheel\n",
            "Color                   Silver\n",
            "Airbags                     12\n",
            "Name: 0, dtype: object\n"
          ]
        }
      ]
    },
    {
      "cell_type": "code",
      "source": [
        "# Display the last row of the filtered dataset\n",
        "print(\"\\nLast row:\")\n",
        "print(filtered_data.iloc[-1])"
      ],
      "metadata": {
        "colab": {
          "base_uri": "https://localhost:8080/"
        },
        "id": "vHzJdquCLMQf",
        "outputId": "4a322797-2120-4c34-9df2-c74ebed5920d"
      },
      "execution_count": 6,
      "outputs": [
        {
          "output_type": "stream",
          "name": "stdout",
          "text": [
            "\n",
            "Last row:\n",
            "ID                    45813273\n",
            "Price                      470\n",
            "Levy                       753\n",
            "Manufacturer           HYUNDAI\n",
            "Model                   Sonata\n",
            "Prod. year                2012\n",
            "Category                 Sedan\n",
            "Leather interior           Yes\n",
            "Fuel type               Hybrid\n",
            "Engine volume              2.4\n",
            "Mileage              186923 km\n",
            "Cylinders                  4.0\n",
            "Gear box type        Automatic\n",
            "Drive wheels             Front\n",
            "Doors                   04-May\n",
            "Wheel               Left wheel\n",
            "Color                    White\n",
            "Airbags                     12\n",
            "Name: 19236, dtype: object\n"
          ]
        }
      ]
    },
    {
      "cell_type": "code",
      "source": [
        "# Cleaning the 'Mileage' column\n",
        "filtered_data['Mileage'] = filtered_data['Mileage'].str.replace(' km', '').str.replace(',', '').astype(float)\n"
      ],
      "metadata": {
        "colab": {
          "base_uri": "https://localhost:8080/"
        },
        "id": "32m6BLF26ed1",
        "outputId": "610c8172-61a7-4c26-f688-a9ccc7f0d6ac"
      },
      "execution_count": null,
      "outputs": [
        {
          "output_type": "stream",
          "name": "stderr",
          "text": [
            "<ipython-input-6-1f9bd0e02f63>:2: SettingWithCopyWarning: \n",
            "A value is trying to be set on a copy of a slice from a DataFrame.\n",
            "Try using .loc[row_indexer,col_indexer] = value instead\n",
            "\n",
            "See the caveats in the documentation: https://pandas.pydata.org/pandas-docs/stable/user_guide/indexing.html#returning-a-view-versus-a-copy\n",
            "  filtered_data['Mileage'] = filtered_data['Mileage'].str.replace(' km', '').str.replace(',', '').astype(float)\n"
          ]
        }
      ]
    },
    {
      "cell_type": "code",
      "source": [
        "# Average Levy\n",
        "average_levy = filtered_data['Levy'].mean()"
      ],
      "metadata": {
        "id": "GBo00GAW6h9f"
      },
      "execution_count": null,
      "outputs": []
    },
    {
      "cell_type": "code",
      "source": [
        "# Task 2: Data Preparation\n",
        "selected_features = ['Price', 'Levy', 'Mileage', 'Prod. year']\n",
        "prepared_data = filtered_data[selected_features].dropna()"
      ],
      "metadata": {
        "id": "YEC1Om2E6l2g"
      },
      "execution_count": null,
      "outputs": []
    },
    {
      "cell_type": "code",
      "source": [
        "# Splitting the dataset into Train (90%) and Test (10%) sets\n",
        "train_data, test_data = train_test_split(prepared_data, test_size=0.1, random_state=42)\n",
        "X_train = train_data.drop(columns=['Price']).values\n",
        "y_train = train_data['Price'].values\n",
        "X_test = test_data.drop(columns=['Price']).values\n",
        "y_test = test_data['Price'].values"
      ],
      "metadata": {
        "id": "P-MfxS_46oPI"
      },
      "execution_count": null,
      "outputs": []
    },
    {
      "cell_type": "code",
      "source": [
        "# Feature Scaling\n",
        "scaler = StandardScaler()\n",
        "X_train_scaled = scaler.fit_transform(X_train)\n",
        "X_test_scaled = scaler.transform(X_test)"
      ],
      "metadata": {
        "id": "M9bYd5FN6qiA"
      },
      "execution_count": null,
      "outputs": []
    },
    {
      "cell_type": "code",
      "source": [
        "\n",
        "# Gradient Descent for Linear Regression\n",
        "class LinearRegressionGD:\n",
        "    def __init__(self, learning_rate=0.01, iterations=1000):\n",
        "        self.learning_rate = learning_rate\n",
        "        self.iterations = iterations\n",
        "        self.weights = None\n",
        "        self.bias = None\n",
        "        self.cost_history = []\n",
        "\n",
        "    def fit(self, X, y):\n",
        "        n_samples, n_features = X.shape\n",
        "        self.weights = np.zeros(n_features)\n",
        "        self.bias = 0\n",
        "\n",
        "        for i in range(self.iterations):\n",
        "            # Compute predictions\n",
        "            y_pred = np.dot(X, self.weights) + self.bias\n",
        "\n",
        "            # Compute gradients\n",
        "            dw = -(2 / n_samples) * np.dot(X.T, (y - y_pred))\n",
        "            db = -(2 / n_samples) * np.sum(y - y_pred)\n",
        "\n",
        "            # Update weights and bias\n",
        "            self.weights -= self.learning_rate * dw\n",
        "            self.bias -= self.learning_rate * db\n",
        "\n",
        "            # Compute cost and store it\n",
        "            cost = np.mean((y - y_pred) ** 2)\n",
        "            self.cost_history.append(cost)\n",
        "\n",
        "    def predict(self, X):\n",
        "        return np.dot(X, self.weights) + self.bias"
      ],
      "metadata": {
        "id": "4RKXZ21K6syW"
      },
      "execution_count": null,
      "outputs": []
    },
    {
      "cell_type": "code",
      "source": [
        "# Training the model\n",
        "learning_rate = 0.01\n",
        "iterations = 1000\n",
        "model = LinearRegressionGD(learning_rate=learning_rate, iterations=iterations)\n",
        "model.fit(X_train_scaled, y_train)\n",
        "\n",
        "# Extracting weights and bias\n",
        "optimal_weights = model.weights\n",
        "optimal_bias = model.bias\n",
        "\n",
        "# Plotting training cost vs. iterations\n",
        "plt.plot(range(iterations), model.cost_history)\n",
        "plt.title(\"Training Cost vs. Iterations\")\n",
        "plt.xlabel(\"Iterations\")\n",
        "plt.ylabel(\"Cost\")\n",
        "plt.grid()\n",
        "plt.show()\n"
      ],
      "metadata": {
        "colab": {
          "base_uri": "https://localhost:8080/",
          "height": 472
        },
        "id": "yDiB3W5p6x8f",
        "outputId": "8a7cf9b2-1ca8-4167-c57f-b5f1c7b1906b"
      },
      "execution_count": null,
      "outputs": [
        {
          "output_type": "display_data",
          "data": {
            "text/plain": [
              "<Figure size 640x480 with 1 Axes>"
            ],
            "image/png": "[encoded data removed]"
          },
          "metadata": {}
        }
      ]
    },
    {
      "cell_type": "code",
      "source": [
        "# Predictions and Evaluation\n",
        "y_test_pred = model.predict(X_test_scaled)\n",
        "test_cost = np.mean((y_test - y_test_pred) ** 2)\n",
        "\n",
        "print(\"Optimal Weights:\", optimal_weights)\n",
        "print(\"Optimal Bias:\", optimal_bias)\n",
        "print(\"Test Set Cost:\", test_cost)"
      ],
      "metadata": {
        "colab": {
          "base_uri": "https://localhost:8080/"
        },
        "id": "Cgq2jpAW60NV",
        "outputId": "fc99a5c1-1672-4855-c7d6-16e565b8f7dc"
      },
      "execution_count": null,
      "outputs": [
        {
          "output_type": "stream",
          "name": "stdout",
          "text": [
            "Optimal Weights: [-1166.86701931   -13.18388789  4539.32483496]\n",
            "Optimal Bias: 16496.20461788012\n",
            "Test Set Cost: 348117506.8956897\n"
          ]
        }
      ]
    }
  ]
}